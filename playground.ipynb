{
 "cells": [
  {
   "cell_type": "code",
   "execution_count": 6,
   "metadata": {},
   "outputs": [],
   "source": [
    "from utils.get_ticker_10k_filings import get_ticker_10k_filings \n",
    "from utils.collect_ticker_files import collect_ticker_files"
   ]
  },
  {
   "cell_type": "code",
   "execution_count": 7,
   "metadata": {},
   "outputs": [],
   "source": [
    "get_ticker_10k_filings(\"GOOG\")  "
   ]
  },
  {
   "cell_type": "code",
   "execution_count": 8,
   "metadata": {},
   "outputs": [
    {
     "name": "stderr",
     "output_type": "stream",
     "text": [
      "Collecting Tickers: 100%|██████████| 2/2 [00:00<00:00, 2540.46ticker/s]"
     ]
    },
    {
     "name": "stdout",
     "output_type": "stream",
     "text": [
      "Files are ready for GOOG\n"
     ]
    },
    {
     "name": "stderr",
     "output_type": "stream",
     "text": [
      "\n"
     ]
    }
   ],
   "source": [
    "ticker_files_dict = collect_ticker_files( ) "
   ]
  },
  {
   "cell_type": "code",
   "execution_count": 9,
   "metadata": {},
   "outputs": [
    {
     "data": {
      "text/plain": [
       "dict_keys(['GOOG'])"
      ]
     },
     "execution_count": 9,
     "metadata": {},
     "output_type": "execute_result"
    }
   ],
   "source": [
    "ticker_files_dict.keys()        "
   ]
  },
  {
   "cell_type": "code",
   "execution_count": 10,
   "metadata": {},
   "outputs": [
    {
     "data": {
      "text/plain": [
       "['data/sec-edgar-filings/GOOG/10-K/0001652044-17-000008/full-submission.txt',\n",
       " 'data/sec-edgar-filings/GOOG/10-K/0001652044-17-000008/primary-document.html',\n",
       " 'data/sec-edgar-filings/GOOG/10-K/0001652044-22-000019/full-submission.txt',\n",
       " 'data/sec-edgar-filings/GOOG/10-K/0001652044-22-000019/primary-document.html',\n",
       " 'data/sec-edgar-filings/GOOG/10-K/0001652044-19-000004/full-submission.txt',\n",
       " 'data/sec-edgar-filings/GOOG/10-K/0001652044-19-000004/primary-document.html',\n",
       " 'data/sec-edgar-filings/GOOG/10-K/0001652044-18-000007/full-submission.txt',\n",
       " 'data/sec-edgar-filings/GOOG/10-K/0001652044-18-000007/primary-document.html',\n",
       " 'data/sec-edgar-filings/GOOG/10-K/0001652044-20-000008/full-submission.txt',\n",
       " 'data/sec-edgar-filings/GOOG/10-K/0001652044-20-000008/primary-document.html',\n",
       " 'data/sec-edgar-filings/GOOG/10-K/0001652044-16-000012/full-submission.txt',\n",
       " 'data/sec-edgar-filings/GOOG/10-K/0001652044-16-000012/primary-document.html',\n",
       " 'data/sec-edgar-filings/GOOG/10-K/0001652044-16-000012/testing.html',\n",
       " 'data/sec-edgar-filings/GOOG/10-K/0001652044-21-000010/full-submission.txt',\n",
       " 'data/sec-edgar-filings/GOOG/10-K/0001652044-21-000010/primary-document.html',\n",
       " 'data/sec-edgar-filings/GOOG/10-K/0001652044-23-000016/full-submission.txt',\n",
       " 'data/sec-edgar-filings/GOOG/10-K/0001652044-23-000016/primary-document.html']"
      ]
     },
     "execution_count": 10,
     "metadata": {},
     "output_type": "execute_result"
    }
   ],
   "source": [
    "ticker_files_dict['GOOG']"
   ]
  },
  {
   "cell_type": "code",
   "execution_count": 2,
   "metadata": {},
   "outputs": [],
   "source": [
    "get_ticker_10k_filings(\"ABM\")  "
   ]
  },
  {
   "cell_type": "code",
   "execution_count": null,
   "metadata": {},
   "outputs": [],
   "source": []
  }
 ],
 "metadata": {
  "kernelspec": {
   "display_name": "Python 3",
   "language": "python",
   "name": "python3"
  },
  "language_info": {
   "codemirror_mode": {
    "name": "ipython",
    "version": 3
   },
   "file_extension": ".py",
   "mimetype": "text/x-python",
   "name": "python",
   "nbconvert_exporter": "python",
   "pygments_lexer": "ipython3",
   "version": "3.11.3"
  },
  "orig_nbformat": 4
 },
 "nbformat": 4,
 "nbformat_minor": 2
}
