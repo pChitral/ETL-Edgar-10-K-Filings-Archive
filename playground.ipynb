{
 "cells": [
  {
   "cell_type": "code",
   "execution_count": 11,
   "metadata": {},
   "outputs": [],
   "source": [
    "from sec_edgar_downloader import Downloader"
   ]
  },
  {
   "cell_type": "code",
   "execution_count": 12,
   "metadata": {},
   "outputs": [
    {
     "name": "stderr",
     "output_type": "stream",
     "text": [
      "/Users/chitralpatil/Documents/Research/SED_EDGAR_Scraper/10k-download/myenv/lib/python3.11/site-packages/bs4/builder/__init__.py:545: XMLParsedAsHTMLWarning: It looks like you're parsing an XML document using an HTML parser. If this really is an HTML document (maybe it's XHTML?), you can ignore or filter this warning. If it's XML, you should know that using an XML parser will be more reliable. To parse this document as XML, make sure you have the lxml package installed, and pass the keyword argument `features=\"xml\"` into the BeautifulSoup constructor.\n",
      "  warnings.warn(\n"
     ]
    },
    {
     "name": "stdout",
     "output_type": "stream",
     "text": [
      "Skipping filing detail download for '0001032210-00-001961' due to network error: 404 Client Error: Not Found for url: https://www.sec.gov/Archives/edgar/data/789019/000103221000001961/0001.txt.\n"
     ]
    },
    {
     "data": {
      "text/plain": [
       "23"
      ]
     },
     "execution_count": 12,
     "metadata": {},
     "output_type": "execute_result"
    }
   ],
   "source": [
    "dl = Downloader(\"data\")\n",
    "# Get all 10-K filings for Microsoft\n",
    "dl.get(\"10-K\", \"MSFT\")"
   ]
  },
  {
   "cell_type": "code",
   "execution_count": 14,
   "metadata": {},
   "outputs": [
    {
     "data": {
      "text/plain": [
       "22"
      ]
     },
     "execution_count": 14,
     "metadata": {},
     "output_type": "execute_result"
    }
   ],
   "source": [
    "dl.get(\"10-K\", \"AAPL\")"
   ]
  },
  {
   "cell_type": "code",
   "execution_count": 10,
   "metadata": {},
   "outputs": [
    {
     "data": {
      "text/plain": [
       "{'.': {},\n",
       " 'sec-edgar-filings': {},\n",
       " 'sec-edgar-filings/MSFT': {},\n",
       " 'sec-edgar-filings/MSFT/10-K': {},\n",
       " 'sec-edgar-filings/MSFT/10-K/0001193125-08-162768': {'full-submission.txt': 'data/sec-edgar-filings/MSFT/10-K/0001193125-08-162768/full-submission.txt',\n",
       "  'filing-details.html': 'data/sec-edgar-filings/MSFT/10-K/0001193125-08-162768/filing-details.html'},\n",
       " 'sec-edgar-filings/MSFT/10-K/0001564590-21-039151': {'full-submission.txt': 'data/sec-edgar-filings/MSFT/10-K/0001564590-21-039151/full-submission.txt',\n",
       "  'filing-details.html': 'data/sec-edgar-filings/MSFT/10-K/0001564590-21-039151/filing-details.html'},\n",
       " 'sec-edgar-filings/MSFT/10-K/0001193125-15-272806': {'full-submission.txt': 'data/sec-edgar-filings/MSFT/10-K/0001193125-15-272806/full-submission.txt',\n",
       "  'filing-details.html': 'data/sec-edgar-filings/MSFT/10-K/0001193125-15-272806/filing-details.html'},\n",
       " 'sec-edgar-filings/MSFT/10-K/0001193125-16-662209': {'full-submission.txt': 'data/sec-edgar-filings/MSFT/10-K/0001193125-16-662209/full-submission.txt',\n",
       "  'filing-details.html': 'data/sec-edgar-filings/MSFT/10-K/0001193125-16-662209/filing-details.html'},\n",
       " 'sec-edgar-filings/MSFT/10-K/0001193125-10-171791': {'full-submission.txt': 'data/sec-edgar-filings/MSFT/10-K/0001193125-10-171791/full-submission.txt',\n",
       "  'filing-details.html': 'data/sec-edgar-filings/MSFT/10-K/0001193125-10-171791/filing-details.html'},\n",
       " 'sec-edgar-filings/MSFT/10-K/0001193125-14-289961': {'full-submission.txt': 'data/sec-edgar-filings/MSFT/10-K/0001193125-14-289961/full-submission.txt',\n",
       "  'filing-details.html': 'data/sec-edgar-filings/MSFT/10-K/0001193125-14-289961/filing-details.html'},\n",
       " 'sec-edgar-filings/MSFT/10-K/0001564590-22-026876': {'full-submission.txt': 'data/sec-edgar-filings/MSFT/10-K/0001564590-22-026876/full-submission.txt',\n",
       "  'filing-details.html': 'data/sec-edgar-filings/MSFT/10-K/0001564590-22-026876/filing-details.html'},\n",
       " 'sec-edgar-filings/MSFT/10-K/0001193125-11-200680': {'full-submission.txt': 'data/sec-edgar-filings/MSFT/10-K/0001193125-11-200680/full-submission.txt',\n",
       "  'filing-details.html': 'data/sec-edgar-filings/MSFT/10-K/0001193125-11-200680/filing-details.html'},\n",
       " 'sec-edgar-filings/MSFT/10-K/0001193125-04-150689': {'full-submission.txt': 'data/sec-edgar-filings/MSFT/10-K/0001193125-04-150689/full-submission.txt',\n",
       "  'filing-details.html': 'data/sec-edgar-filings/MSFT/10-K/0001193125-04-150689/filing-details.html'},\n",
       " 'sec-edgar-filings/MSFT/10-K/0001564590-19-027952': {'full-submission.txt': 'data/sec-edgar-filings/MSFT/10-K/0001564590-19-027952/full-submission.txt',\n",
       "  'filing-details.html': 'data/sec-edgar-filings/MSFT/10-K/0001564590-19-027952/filing-details.html'},\n",
       " 'sec-edgar-filings/MSFT/10-K/0001193125-05-174825': {'full-submission.txt': 'data/sec-edgar-filings/MSFT/10-K/0001193125-05-174825/full-submission.txt',\n",
       "  'filing-details.html': 'data/sec-edgar-filings/MSFT/10-K/0001193125-05-174825/filing-details.html'},\n",
       " 'sec-edgar-filings/MSFT/10-K/0001032210-01-501099': {'filing-details.txt': 'data/sec-edgar-filings/MSFT/10-K/0001032210-01-501099/filing-details.txt',\n",
       "  'full-submission.txt': 'data/sec-edgar-filings/MSFT/10-K/0001032210-01-501099/full-submission.txt'},\n",
       " 'sec-edgar-filings/MSFT/10-K/0001193125-13-310206': {'full-submission.txt': 'data/sec-edgar-filings/MSFT/10-K/0001193125-13-310206/full-submission.txt',\n",
       "  'filing-details.html': 'data/sec-edgar-filings/MSFT/10-K/0001193125-13-310206/filing-details.html'},\n",
       " 'sec-edgar-filings/MSFT/10-K/0001032210-00-001961': {'full-submission.txt': 'data/sec-edgar-filings/MSFT/10-K/0001032210-00-001961/full-submission.txt'},\n",
       " 'sec-edgar-filings/MSFT/10-K/0001193125-12-316848': {'full-submission.txt': 'data/sec-edgar-filings/MSFT/10-K/0001193125-12-316848/full-submission.txt',\n",
       "  'filing-details.html': 'data/sec-edgar-filings/MSFT/10-K/0001193125-12-316848/filing-details.html'},\n",
       " 'sec-edgar-filings/MSFT/10-K/0001032210-02-001351': {'full-submission.txt': 'data/sec-edgar-filings/MSFT/10-K/0001032210-02-001351/full-submission.txt',\n",
       "  'filing-details.html': 'data/sec-edgar-filings/MSFT/10-K/0001032210-02-001351/filing-details.html'},\n",
       " 'sec-edgar-filings/MSFT/10-K/0001564590-17-014900': {'full-submission.txt': 'data/sec-edgar-filings/MSFT/10-K/0001564590-17-014900/full-submission.txt',\n",
       "  'filing-details.html': 'data/sec-edgar-filings/MSFT/10-K/0001564590-17-014900/filing-details.html'},\n",
       " 'sec-edgar-filings/MSFT/10-K/0001193125-09-158735': {'full-submission.txt': 'data/sec-edgar-filings/MSFT/10-K/0001193125-09-158735/full-submission.txt',\n",
       "  'filing-details.html': 'data/sec-edgar-filings/MSFT/10-K/0001193125-09-158735/filing-details.html'},\n",
       " 'sec-edgar-filings/MSFT/10-K/0001564590-20-034944': {'full-submission.txt': 'data/sec-edgar-filings/MSFT/10-K/0001564590-20-034944/full-submission.txt',\n",
       "  'filing-details.html': 'data/sec-edgar-filings/MSFT/10-K/0001564590-20-034944/filing-details.html'},\n",
       " 'sec-edgar-filings/MSFT/10-K/0001193125-06-180008': {'full-submission.txt': 'data/sec-edgar-filings/MSFT/10-K/0001193125-06-180008/full-submission.txt',\n",
       "  'filing-details.html': 'data/sec-edgar-filings/MSFT/10-K/0001193125-06-180008/filing-details.html'},\n",
       " 'sec-edgar-filings/MSFT/10-K/0001193125-07-170817': {'full-submission.txt': 'data/sec-edgar-filings/MSFT/10-K/0001193125-07-170817/full-submission.txt',\n",
       "  'filing-details.html': 'data/sec-edgar-filings/MSFT/10-K/0001193125-07-170817/filing-details.html'},\n",
       " 'sec-edgar-filings/MSFT/10-K/0001193125-03-045632': {'full-submission.txt': 'data/sec-edgar-filings/MSFT/10-K/0001193125-03-045632/full-submission.txt',\n",
       "  'filing-details.html': 'data/sec-edgar-filings/MSFT/10-K/0001193125-03-045632/filing-details.html'},\n",
       " 'sec-edgar-filings/MSFT/10-K/0001564590-18-019062': {'full-submission.txt': 'data/sec-edgar-filings/MSFT/10-K/0001564590-18-019062/full-submission.txt',\n",
       "  'filing-details.html': 'data/sec-edgar-filings/MSFT/10-K/0001564590-18-019062/filing-details.html'}}"
      ]
     },
     "execution_count": 10,
     "metadata": {},
     "output_type": "execute_result"
    }
   ],
   "source": [
    "files_info"
   ]
  },
  {
   "cell_type": "code",
   "execution_count": null,
   "metadata": {},
   "outputs": [],
   "source": []
  }
 ],
 "metadata": {
  "kernelspec": {
   "display_name": "Python 3",
   "language": "python",
   "name": "python3"
  },
  "language_info": {
   "codemirror_mode": {
    "name": "ipython",
    "version": 3
   },
   "file_extension": ".py",
   "mimetype": "text/x-python",
   "name": "python",
   "nbconvert_exporter": "python",
   "pygments_lexer": "ipython3",
   "version": "3.11.3"
  },
  "orig_nbformat": 4
 },
 "nbformat": 4,
 "nbformat_minor": 2
}
