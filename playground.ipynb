{
 "cells": [
  {
   "cell_type": "code",
   "execution_count": 1,
   "metadata": {},
   "outputs": [],
   "source": [
    "from utils.get_ticker_10k_filings import get_ticker_10k_filings\n",
    "from utils.TickerFilesCollector import TickerFilesCollector "
   ]
  },
  {
   "cell_type": "code",
   "execution_count": 2,
   "metadata": {},
   "outputs": [
    {
     "name": "stderr",
     "output_type": "stream",
     "text": [
      "/Users/chitralpatil/Documents/Research/SED_EDGAR_Scraper/10k-download/myenv/lib/python3.11/site-packages/bs4/builder/__init__.py:545: XMLParsedAsHTMLWarning: It looks like you're parsing an XML document using an HTML parser. If this really is an HTML document (maybe it's XHTML?), you can ignore or filter this warning. If it's XML, you should know that using an XML parser will be more reliable. To parse this document as XML, make sure you have the lxml package installed, and pass the keyword argument `features=\"xml\"` into the BeautifulSoup constructor.\n",
      "  warnings.warn(\n"
     ]
    },
    {
     "name": "stdout",
     "output_type": "stream",
     "text": [
      "Skipping filing detail download for '0001032210-00-001961' due to network error: 404 Client Error: Not Found for url: https://www.sec.gov/Archives/edgar/data/789019/000103221000001961/0001.txt.\n"
     ]
    }
   ],
   "source": [
    "get_ticker_10k_filings(\"MSFT\")  "
   ]
  },
  {
   "cell_type": "code",
   "execution_count": 4,
   "metadata": {},
   "outputs": [],
   "source": [
    "data_folder = 'data/sec-edgar-filings'  # Replace this with the path to your data folder\n",
    "ticker_collector = TickerFilesCollector(data_folder)\n"
   ]
  },
  {
   "cell_type": "code",
   "execution_count": 5,
   "metadata": {},
   "outputs": [],
   "source": [
    "all_ticker_files = ticker_collector.get_all_ticker_files()\n"
   ]
  },
  {
   "cell_type": "code",
   "execution_count": 6,
   "metadata": {},
   "outputs": [
    {
     "name": "stdout",
     "output_type": "stream",
     "text": [
      "Files for AAPL: ['data/sec-edgar-filings/AAPL/10-K/0001193125-08-224958/full-submission.txt', 'data/sec-edgar-filings/AAPL/10-K/0001193125-08-224958/filing-details.html', 'data/sec-edgar-filings/AAPL/10-K/0001104659-06-084288/full-submission.txt', 'data/sec-edgar-filings/AAPL/10-K/0001104659-06-084288/filing-details.html', 'data/sec-edgar-filings/AAPL/10-K/0000320193-19-000119/full-submission.txt', 'data/sec-edgar-filings/AAPL/10-K/0000320193-19-000119/filing-details.html', 'data/sec-edgar-filings/AAPL/10-K/0001193125-12-444068/full-submission.txt', 'data/sec-edgar-filings/AAPL/10-K/0001193125-12-444068/filing-details.html', 'data/sec-edgar-filings/AAPL/10-K/0000320193-17-000070/full-submission.txt', 'data/sec-edgar-filings/AAPL/10-K/0000320193-17-000070/filing-details.html', 'data/sec-edgar-filings/AAPL/10-K/0001104659-05-058421/full-submission.txt', 'data/sec-edgar-filings/AAPL/10-K/0001104659-05-058421/filing-details.html', 'data/sec-edgar-filings/AAPL/10-K/0001193125-09-214859/full-submission.txt', 'data/sec-edgar-filings/AAPL/10-K/0001193125-09-214859/filing-details.html', 'data/sec-edgar-filings/AAPL/10-K/0000320193-22-000108/full-submission.txt', 'data/sec-edgar-filings/AAPL/10-K/0000320193-22-000108/filing-details.html', 'data/sec-edgar-filings/AAPL/10-K/0001193125-15-356351/full-submission.txt', 'data/sec-edgar-filings/AAPL/10-K/0001193125-15-356351/filing-details.html', 'data/sec-edgar-filings/AAPL/10-K/0001628280-16-020309/full-submission.txt', 'data/sec-edgar-filings/AAPL/10-K/0001628280-16-020309/filing-details.html', 'data/sec-edgar-filings/AAPL/10-K/0001047469-07-009340/full-submission.txt', 'data/sec-edgar-filings/AAPL/10-K/0001047469-07-009340/filing-details.html', 'data/sec-edgar-filings/AAPL/10-K/0000320193-21-000105/full-submission.txt', 'data/sec-edgar-filings/AAPL/10-K/0000320193-21-000105/filing-details.html', 'data/sec-edgar-filings/AAPL/10-K/0001047469-03-041604/full-submission.txt', 'data/sec-edgar-filings/AAPL/10-K/0001047469-03-041604/filing-details.html', 'data/sec-edgar-filings/AAPL/10-K/0001047469-02-007674/full-submission.txt', 'data/sec-edgar-filings/AAPL/10-K/0001047469-02-007674/filing-details.html', 'data/sec-edgar-filings/AAPL/10-K/0000320193-18-000145/full-submission.txt', 'data/sec-edgar-filings/AAPL/10-K/0000320193-18-000145/filing-details.html', 'data/sec-edgar-filings/AAPL/10-K/0000320193-20-000096/full-submission.txt', 'data/sec-edgar-filings/AAPL/10-K/0000320193-20-000096/filing-details.html', 'data/sec-edgar-filings/AAPL/10-K/0001193125-11-282113/full-submission.txt', 'data/sec-edgar-filings/AAPL/10-K/0001193125-11-282113/filing-details.html', 'data/sec-edgar-filings/AAPL/10-K/0001047469-04-035975/full-submission.txt', 'data/sec-edgar-filings/AAPL/10-K/0001047469-04-035975/filing-details.html', 'data/sec-edgar-filings/AAPL/10-K/0000912057-00-053623/filing-details.txt', 'data/sec-edgar-filings/AAPL/10-K/0000912057-00-053623/full-submission.txt', 'data/sec-edgar-filings/AAPL/10-K/0001193125-10-238044/full-submission.txt', 'data/sec-edgar-filings/AAPL/10-K/0001193125-10-238044/filing-details.html', 'data/sec-edgar-filings/AAPL/10-K/0001193125-14-383437/full-submission.txt', 'data/sec-edgar-filings/AAPL/10-K/0001193125-14-383437/filing-details.html', 'data/sec-edgar-filings/AAPL/10-K/0001193125-13-416534/full-submission.txt', 'data/sec-edgar-filings/AAPL/10-K/0001193125-13-416534/filing-details.html']\n",
      "Files for MSFT: ['data/sec-edgar-filings/MSFT/10-K/0001193125-08-162768/full-submission.txt', 'data/sec-edgar-filings/MSFT/10-K/0001193125-08-162768/filing-details.html', 'data/sec-edgar-filings/MSFT/10-K/0001564590-21-039151/full-submission.txt', 'data/sec-edgar-filings/MSFT/10-K/0001564590-21-039151/filing-details.html', 'data/sec-edgar-filings/MSFT/10-K/0001193125-15-272806/full-submission.txt', 'data/sec-edgar-filings/MSFT/10-K/0001193125-15-272806/filing-details.html', 'data/sec-edgar-filings/MSFT/10-K/0001193125-16-662209/full-submission.txt', 'data/sec-edgar-filings/MSFT/10-K/0001193125-16-662209/filing-details.html', 'data/sec-edgar-filings/MSFT/10-K/0001193125-10-171791/full-submission.txt', 'data/sec-edgar-filings/MSFT/10-K/0001193125-10-171791/filing-details.html', 'data/sec-edgar-filings/MSFT/10-K/0001193125-14-289961/full-submission.txt', 'data/sec-edgar-filings/MSFT/10-K/0001193125-14-289961/filing-details.html', 'data/sec-edgar-filings/MSFT/10-K/0001564590-22-026876/full-submission.txt', 'data/sec-edgar-filings/MSFT/10-K/0001564590-22-026876/filing-details.html', 'data/sec-edgar-filings/MSFT/10-K/0001193125-11-200680/full-submission.txt', 'data/sec-edgar-filings/MSFT/10-K/0001193125-11-200680/filing-details.html', 'data/sec-edgar-filings/MSFT/10-K/0001193125-04-150689/full-submission.txt', 'data/sec-edgar-filings/MSFT/10-K/0001193125-04-150689/filing-details.html', 'data/sec-edgar-filings/MSFT/10-K/0001564590-19-027952/full-submission.txt', 'data/sec-edgar-filings/MSFT/10-K/0001564590-19-027952/filing-details.html', 'data/sec-edgar-filings/MSFT/10-K/0001193125-05-174825/full-submission.txt', 'data/sec-edgar-filings/MSFT/10-K/0001193125-05-174825/filing-details.html', 'data/sec-edgar-filings/MSFT/10-K/0001032210-01-501099/filing-details.txt', 'data/sec-edgar-filings/MSFT/10-K/0001032210-01-501099/full-submission.txt', 'data/sec-edgar-filings/MSFT/10-K/0001193125-13-310206/full-submission.txt', 'data/sec-edgar-filings/MSFT/10-K/0001193125-13-310206/filing-details.html', 'data/sec-edgar-filings/MSFT/10-K/0001032210-00-001961/full-submission.txt', 'data/sec-edgar-filings/MSFT/10-K/0001193125-12-316848/full-submission.txt', 'data/sec-edgar-filings/MSFT/10-K/0001193125-12-316848/filing-details.html', 'data/sec-edgar-filings/MSFT/10-K/0001032210-02-001351/full-submission.txt', 'data/sec-edgar-filings/MSFT/10-K/0001032210-02-001351/filing-details.html', 'data/sec-edgar-filings/MSFT/10-K/0001564590-17-014900/full-submission.txt', 'data/sec-edgar-filings/MSFT/10-K/0001564590-17-014900/filing-details.html', 'data/sec-edgar-filings/MSFT/10-K/0001193125-09-158735/full-submission.txt', 'data/sec-edgar-filings/MSFT/10-K/0001193125-09-158735/filing-details.html', 'data/sec-edgar-filings/MSFT/10-K/0001564590-20-034944/full-submission.txt', 'data/sec-edgar-filings/MSFT/10-K/0001564590-20-034944/filing-details.html', 'data/sec-edgar-filings/MSFT/10-K/0001193125-06-180008/full-submission.txt', 'data/sec-edgar-filings/MSFT/10-K/0001193125-06-180008/filing-details.html', 'data/sec-edgar-filings/MSFT/10-K/0001193125-07-170817/full-submission.txt', 'data/sec-edgar-filings/MSFT/10-K/0001193125-07-170817/filing-details.html', 'data/sec-edgar-filings/MSFT/10-K/0001193125-03-045632/full-submission.txt', 'data/sec-edgar-filings/MSFT/10-K/0001193125-03-045632/filing-details.html', 'data/sec-edgar-filings/MSFT/10-K/0001564590-18-019062/full-submission.txt', 'data/sec-edgar-filings/MSFT/10-K/0001564590-18-019062/filing-details.html']\n"
     ]
    }
   ],
   "source": [
    "# Access the collected files for a specific ticker (e.g., 'AAPL')\n",
    "aapl_files = all_ticker_files.get('AAPL', [])\n",
    "print(f\"Files for AAPL: {aapl_files}\")\n",
    "\n",
    "# Access the collected files for another ticker (e.g., 'MSFT')\n",
    "msft_files = all_ticker_files.get('MSFT', [])\n",
    "print(f\"Files for MSFT: {msft_files}\")\n",
    "\n"
   ]
  },
  {
   "cell_type": "code",
   "execution_count": null,
   "metadata": {},
   "outputs": [],
   "source": []
  },
  {
   "cell_type": "code",
   "execution_count": 7,
   "metadata": {},
   "outputs": [
    {
     "data": {
      "text/plain": [
       "{'AAPL': ['data/sec-edgar-filings/AAPL/10-K/0001193125-08-224958/full-submission.txt',\n",
       "  'data/sec-edgar-filings/AAPL/10-K/0001193125-08-224958/filing-details.html',\n",
       "  'data/sec-edgar-filings/AAPL/10-K/0001104659-06-084288/full-submission.txt',\n",
       "  'data/sec-edgar-filings/AAPL/10-K/0001104659-06-084288/filing-details.html',\n",
       "  'data/sec-edgar-filings/AAPL/10-K/0000320193-19-000119/full-submission.txt',\n",
       "  'data/sec-edgar-filings/AAPL/10-K/0000320193-19-000119/filing-details.html',\n",
       "  'data/sec-edgar-filings/AAPL/10-K/0001193125-12-444068/full-submission.txt',\n",
       "  'data/sec-edgar-filings/AAPL/10-K/0001193125-12-444068/filing-details.html',\n",
       "  'data/sec-edgar-filings/AAPL/10-K/0000320193-17-000070/full-submission.txt',\n",
       "  'data/sec-edgar-filings/AAPL/10-K/0000320193-17-000070/filing-details.html',\n",
       "  'data/sec-edgar-filings/AAPL/10-K/0001104659-05-058421/full-submission.txt',\n",
       "  'data/sec-edgar-filings/AAPL/10-K/0001104659-05-058421/filing-details.html',\n",
       "  'data/sec-edgar-filings/AAPL/10-K/0001193125-09-214859/full-submission.txt',\n",
       "  'data/sec-edgar-filings/AAPL/10-K/0001193125-09-214859/filing-details.html',\n",
       "  'data/sec-edgar-filings/AAPL/10-K/0000320193-22-000108/full-submission.txt',\n",
       "  'data/sec-edgar-filings/AAPL/10-K/0000320193-22-000108/filing-details.html',\n",
       "  'data/sec-edgar-filings/AAPL/10-K/0001193125-15-356351/full-submission.txt',\n",
       "  'data/sec-edgar-filings/AAPL/10-K/0001193125-15-356351/filing-details.html',\n",
       "  'data/sec-edgar-filings/AAPL/10-K/0001628280-16-020309/full-submission.txt',\n",
       "  'data/sec-edgar-filings/AAPL/10-K/0001628280-16-020309/filing-details.html',\n",
       "  'data/sec-edgar-filings/AAPL/10-K/0001047469-07-009340/full-submission.txt',\n",
       "  'data/sec-edgar-filings/AAPL/10-K/0001047469-07-009340/filing-details.html',\n",
       "  'data/sec-edgar-filings/AAPL/10-K/0000320193-21-000105/full-submission.txt',\n",
       "  'data/sec-edgar-filings/AAPL/10-K/0000320193-21-000105/filing-details.html',\n",
       "  'data/sec-edgar-filings/AAPL/10-K/0001047469-03-041604/full-submission.txt',\n",
       "  'data/sec-edgar-filings/AAPL/10-K/0001047469-03-041604/filing-details.html',\n",
       "  'data/sec-edgar-filings/AAPL/10-K/0001047469-02-007674/full-submission.txt',\n",
       "  'data/sec-edgar-filings/AAPL/10-K/0001047469-02-007674/filing-details.html',\n",
       "  'data/sec-edgar-filings/AAPL/10-K/0000320193-18-000145/full-submission.txt',\n",
       "  'data/sec-edgar-filings/AAPL/10-K/0000320193-18-000145/filing-details.html',\n",
       "  'data/sec-edgar-filings/AAPL/10-K/0000320193-20-000096/full-submission.txt',\n",
       "  'data/sec-edgar-filings/AAPL/10-K/0000320193-20-000096/filing-details.html',\n",
       "  'data/sec-edgar-filings/AAPL/10-K/0001193125-11-282113/full-submission.txt',\n",
       "  'data/sec-edgar-filings/AAPL/10-K/0001193125-11-282113/filing-details.html',\n",
       "  'data/sec-edgar-filings/AAPL/10-K/0001047469-04-035975/full-submission.txt',\n",
       "  'data/sec-edgar-filings/AAPL/10-K/0001047469-04-035975/filing-details.html',\n",
       "  'data/sec-edgar-filings/AAPL/10-K/0000912057-00-053623/filing-details.txt',\n",
       "  'data/sec-edgar-filings/AAPL/10-K/0000912057-00-053623/full-submission.txt',\n",
       "  'data/sec-edgar-filings/AAPL/10-K/0001193125-10-238044/full-submission.txt',\n",
       "  'data/sec-edgar-filings/AAPL/10-K/0001193125-10-238044/filing-details.html',\n",
       "  'data/sec-edgar-filings/AAPL/10-K/0001193125-14-383437/full-submission.txt',\n",
       "  'data/sec-edgar-filings/AAPL/10-K/0001193125-14-383437/filing-details.html',\n",
       "  'data/sec-edgar-filings/AAPL/10-K/0001193125-13-416534/full-submission.txt',\n",
       "  'data/sec-edgar-filings/AAPL/10-K/0001193125-13-416534/filing-details.html'],\n",
       " 'MSFT': ['data/sec-edgar-filings/MSFT/10-K/0001193125-08-162768/full-submission.txt',\n",
       "  'data/sec-edgar-filings/MSFT/10-K/0001193125-08-162768/filing-details.html',\n",
       "  'data/sec-edgar-filings/MSFT/10-K/0001564590-21-039151/full-submission.txt',\n",
       "  'data/sec-edgar-filings/MSFT/10-K/0001564590-21-039151/filing-details.html',\n",
       "  'data/sec-edgar-filings/MSFT/10-K/0001193125-15-272806/full-submission.txt',\n",
       "  'data/sec-edgar-filings/MSFT/10-K/0001193125-15-272806/filing-details.html',\n",
       "  'data/sec-edgar-filings/MSFT/10-K/0001193125-16-662209/full-submission.txt',\n",
       "  'data/sec-edgar-filings/MSFT/10-K/0001193125-16-662209/filing-details.html',\n",
       "  'data/sec-edgar-filings/MSFT/10-K/0001193125-10-171791/full-submission.txt',\n",
       "  'data/sec-edgar-filings/MSFT/10-K/0001193125-10-171791/filing-details.html',\n",
       "  'data/sec-edgar-filings/MSFT/10-K/0001193125-14-289961/full-submission.txt',\n",
       "  'data/sec-edgar-filings/MSFT/10-K/0001193125-14-289961/filing-details.html',\n",
       "  'data/sec-edgar-filings/MSFT/10-K/0001564590-22-026876/full-submission.txt',\n",
       "  'data/sec-edgar-filings/MSFT/10-K/0001564590-22-026876/filing-details.html',\n",
       "  'data/sec-edgar-filings/MSFT/10-K/0001193125-11-200680/full-submission.txt',\n",
       "  'data/sec-edgar-filings/MSFT/10-K/0001193125-11-200680/filing-details.html',\n",
       "  'data/sec-edgar-filings/MSFT/10-K/0001193125-04-150689/full-submission.txt',\n",
       "  'data/sec-edgar-filings/MSFT/10-K/0001193125-04-150689/filing-details.html',\n",
       "  'data/sec-edgar-filings/MSFT/10-K/0001564590-19-027952/full-submission.txt',\n",
       "  'data/sec-edgar-filings/MSFT/10-K/0001564590-19-027952/filing-details.html',\n",
       "  'data/sec-edgar-filings/MSFT/10-K/0001193125-05-174825/full-submission.txt',\n",
       "  'data/sec-edgar-filings/MSFT/10-K/0001193125-05-174825/filing-details.html',\n",
       "  'data/sec-edgar-filings/MSFT/10-K/0001032210-01-501099/filing-details.txt',\n",
       "  'data/sec-edgar-filings/MSFT/10-K/0001032210-01-501099/full-submission.txt',\n",
       "  'data/sec-edgar-filings/MSFT/10-K/0001193125-13-310206/full-submission.txt',\n",
       "  'data/sec-edgar-filings/MSFT/10-K/0001193125-13-310206/filing-details.html',\n",
       "  'data/sec-edgar-filings/MSFT/10-K/0001032210-00-001961/full-submission.txt',\n",
       "  'data/sec-edgar-filings/MSFT/10-K/0001193125-12-316848/full-submission.txt',\n",
       "  'data/sec-edgar-filings/MSFT/10-K/0001193125-12-316848/filing-details.html',\n",
       "  'data/sec-edgar-filings/MSFT/10-K/0001032210-02-001351/full-submission.txt',\n",
       "  'data/sec-edgar-filings/MSFT/10-K/0001032210-02-001351/filing-details.html',\n",
       "  'data/sec-edgar-filings/MSFT/10-K/0001564590-17-014900/full-submission.txt',\n",
       "  'data/sec-edgar-filings/MSFT/10-K/0001564590-17-014900/filing-details.html',\n",
       "  'data/sec-edgar-filings/MSFT/10-K/0001193125-09-158735/full-submission.txt',\n",
       "  'data/sec-edgar-filings/MSFT/10-K/0001193125-09-158735/filing-details.html',\n",
       "  'data/sec-edgar-filings/MSFT/10-K/0001564590-20-034944/full-submission.txt',\n",
       "  'data/sec-edgar-filings/MSFT/10-K/0001564590-20-034944/filing-details.html',\n",
       "  'data/sec-edgar-filings/MSFT/10-K/0001193125-06-180008/full-submission.txt',\n",
       "  'data/sec-edgar-filings/MSFT/10-K/0001193125-06-180008/filing-details.html',\n",
       "  'data/sec-edgar-filings/MSFT/10-K/0001193125-07-170817/full-submission.txt',\n",
       "  'data/sec-edgar-filings/MSFT/10-K/0001193125-07-170817/filing-details.html',\n",
       "  'data/sec-edgar-filings/MSFT/10-K/0001193125-03-045632/full-submission.txt',\n",
       "  'data/sec-edgar-filings/MSFT/10-K/0001193125-03-045632/filing-details.html',\n",
       "  'data/sec-edgar-filings/MSFT/10-K/0001564590-18-019062/full-submission.txt',\n",
       "  'data/sec-edgar-filings/MSFT/10-K/0001564590-18-019062/filing-details.html']}"
      ]
     },
     "execution_count": 7,
     "metadata": {},
     "output_type": "execute_result"
    }
   ],
   "source": [
    "all_ticker_files"
   ]
  },
  {
   "cell_type": "code",
   "execution_count": null,
   "metadata": {},
   "outputs": [],
   "source": []
  }
 ],
 "metadata": {
  "kernelspec": {
   "display_name": "Python 3",
   "language": "python",
   "name": "python3"
  },
  "language_info": {
   "codemirror_mode": {
    "name": "ipython",
    "version": 3
   },
   "file_extension": ".py",
   "mimetype": "text/x-python",
   "name": "python",
   "nbconvert_exporter": "python",
   "pygments_lexer": "ipython3",
   "version": "3.11.3"
  },
  "orig_nbformat": 4
 },
 "nbformat": 4,
 "nbformat_minor": 2
}
