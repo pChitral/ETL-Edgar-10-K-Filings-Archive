{
 "cells": [
  {
   "cell_type": "code",
   "execution_count": 1,
   "metadata": {},
   "outputs": [],
   "source": [
    "from utils.get_ticker_10k_filings import get_ticker_10k_filings \n",
    "from utils.collect_ticker_files import collect_ticker_files"
   ]
  },
  {
   "cell_type": "code",
   "execution_count": 2,
   "metadata": {},
   "outputs": [
    {
     "name": "stderr",
     "output_type": "stream",
     "text": [
      "/Users/chitralpatil/Documents/Research/SED_EDGAR_Scraper/10k-download/myenv/lib/python3.11/site-packages/bs4/builder/__init__.py:545: XMLParsedAsHTMLWarning: It looks like you're parsing an XML document using an HTML parser. If this really is an HTML document (maybe it's XHTML?), you can ignore or filter this warning. If it's XML, you should know that using an XML parser will be more reliable. To parse this document as XML, make sure you have the lxml package installed, and pass the keyword argument `features=\"xml\"` into the BeautifulSoup constructor.\n",
      "  warnings.warn(\n"
     ]
    }
   ],
   "source": [
    "get_ticker_10k_filings(\"GOOG\")  "
   ]
  },
  {
   "cell_type": "code",
   "execution_count": 3,
   "metadata": {},
   "outputs": [
    {
     "name": "stderr",
     "output_type": "stream",
     "text": [
      "Collecting Tickers: 100%|██████████| 1/1 [00:00<00:00, 1132.37ticker/s]"
     ]
    },
    {
     "name": "stdout",
     "output_type": "stream",
     "text": [
      "Files for GOOG: ['data/sec-edgar-filings/GOOG/10-K/0001652044-17-000008/full-submission.txt', 'data/sec-edgar-filings/GOOG/10-K/0001652044-17-000008/filing-details.html', 'data/sec-edgar-filings/GOOG/10-K/0001652044-22-000019/full-submission.txt', 'data/sec-edgar-filings/GOOG/10-K/0001652044-22-000019/filing-details.html', 'data/sec-edgar-filings/GOOG/10-K/0001652044-19-000004/full-submission.txt', 'data/sec-edgar-filings/GOOG/10-K/0001652044-19-000004/filing-details.html', 'data/sec-edgar-filings/GOOG/10-K/0001652044-18-000007/full-submission.txt', 'data/sec-edgar-filings/GOOG/10-K/0001652044-18-000007/filing-details.html', 'data/sec-edgar-filings/GOOG/10-K/0001652044-20-000008/full-submission.txt', 'data/sec-edgar-filings/GOOG/10-K/0001652044-20-000008/filing-details.html', 'data/sec-edgar-filings/GOOG/10-K/0001652044-16-000012/full-submission.txt', 'data/sec-edgar-filings/GOOG/10-K/0001652044-16-000012/filing-details.html', 'data/sec-edgar-filings/GOOG/10-K/0001652044-21-000010/full-submission.txt', 'data/sec-edgar-filings/GOOG/10-K/0001652044-21-000010/filing-details.html', 'data/sec-edgar-filings/GOOG/10-K/0001652044-23-000016/full-submission.txt', 'data/sec-edgar-filings/GOOG/10-K/0001652044-23-000016/filing-details.html']\n"
     ]
    },
    {
     "name": "stderr",
     "output_type": "stream",
     "text": [
      "\n"
     ]
    }
   ],
   "source": [
    "ticker_files_dict = collect_ticker_files( ) "
   ]
  }
 ],
 "metadata": {
  "kernelspec": {
   "display_name": "Python 3",
   "language": "python",
   "name": "python3"
  },
  "language_info": {
   "codemirror_mode": {
    "name": "ipython",
    "version": 3
   },
   "file_extension": ".py",
   "mimetype": "text/x-python",
   "name": "python",
   "nbconvert_exporter": "python",
   "pygments_lexer": "ipython3",
   "version": "3.11.3"
  },
  "orig_nbformat": 4
 },
 "nbformat": 4,
 "nbformat_minor": 2
}
